{
  "nbformat": 4,
  "nbformat_minor": 0,
  "metadata": {
    "colab": {
      "name": "New adapted EdgeTPU with Keras",
      "version": "0.3.2",
      "provenance": [],
      "collapsed_sections": [],
      "toc_visible": true,
      "include_colab_link": true
    },
    "kernelspec": {
      "name": "python3",
      "display_name": "Python 3"
    },
    "accelerator": "GPU"
  },
  "cells": [
    {
      "cell_type": "markdown",
      "metadata": {
        "id": "view-in-github",
        "colab_type": "text"
      },
      "source": [
        "<a href=\"https://colab.research.google.com/github/1n1n1t3/Coral-Dev-Board/blob/master/EfficientNet_EdgeTPU_with_Keras.ipynb\" target=\"_parent\"><img src=\"https://colab.research.google.com/assets/colab-badge.svg\" alt=\"Open In Colab\"/></a>"
      ]
    },
    {
      "cell_type": "markdown",
      "metadata": {
        "id": "4htbzUzvUuKk",
        "colab_type": "text"
      },
      "source": [
        "Nightly build mandatory else errors\n",
        "\n",
        "---\n",
        "\n"
      ]
    },
    {
      "cell_type": "code",
      "metadata": {
        "id": "3aluRnFKRN9y",
        "colab_type": "code",
        "outputId": "36686467-dd70-4a9a-d59a-7274c3a6e13a",
        "colab": {
          "base_uri": "https://localhost:8080/",
          "height": 574
        }
      },
      "source": [
        "#!pip install tensorflow-gpu==2.0.0-beta0\n",
        "#!pip instaell tf-nightly-gpu\n",
        "\n",
        "! pip uninstall -y tensorflow\n",
        "! pip install -U tf-nightly-gpu\n",
        "\n",
        "\n",
        "import tensorflow as tf\n",
        "from tensorflow import keras\n",
        "import numpy as np\n",
        "import matplotlib.pyplot as plt\n",
        "from keras.utils import np_utils\n",
        "#tf.enable_eager_execution()\n",
        "\n",
        "print(tf.__version__)"
      ],
      "execution_count": 0,
      "outputs": [
        {
          "output_type": "stream",
          "text": [
            "Uninstalling tensorflow-1.14.0rc1:\n",
            "  Successfully uninstalled tensorflow-1.14.0rc1\n",
            "Collecting tf-nightly-gpu\n",
            "\u001b[?25l  Downloading https://files.pythonhosted.org/packages/a6/4c/1d0f9cb23cda441f372129b32fdbc41645a7043f750087e519dac164cce5/tf_nightly_gpu-1.14.1.dev20190616-cp36-cp36m-manylinux1_x86_64.whl (372.2MB)\n",
            "\u001b[K     |████████████████████████████████| 372.2MB 50kB/s \n",
            "\u001b[?25hRequirement already satisfied, skipping upgrade: google-pasta>=0.1.6 in /usr/local/lib/python3.6/dist-packages (from tf-nightly-gpu) (0.1.7)\n",
            "Requirement already satisfied, skipping upgrade: wheel>=0.26 in /usr/local/lib/python3.6/dist-packages (from tf-nightly-gpu) (0.33.4)\n",
            "Requirement already satisfied, skipping upgrade: keras-applications>=1.0.8 in /usr/local/lib/python3.6/dist-packages (from tf-nightly-gpu) (1.0.8)\n",
            "Requirement already satisfied, skipping upgrade: absl-py>=0.7.0 in /usr/local/lib/python3.6/dist-packages (from tf-nightly-gpu) (0.7.1)\n",
            "Requirement already satisfied, skipping upgrade: astor>=0.6.0 in /usr/local/lib/python3.6/dist-packages (from tf-nightly-gpu) (0.8.0)\n",
            "Collecting tf-estimator-nightly (from tf-nightly-gpu)\n",
            "\u001b[?25l  Downloading https://files.pythonhosted.org/packages/a0/2e/cddba9e9f1e38210bfd92a7d0856157fee0bfe8a1db77c74551ce1db43e8/tf_estimator_nightly-1.14.0.dev2019061601-py2.py3-none-any.whl (496kB)\n",
            "\u001b[K     |████████████████████████████████| 501kB 44.9MB/s \n",
            "\u001b[?25hRequirement already satisfied, skipping upgrade: grpcio>=1.8.6 in /usr/local/lib/python3.6/dist-packages (from tf-nightly-gpu) (1.15.0)\n",
            "Collecting tb-nightly<1.15.0a0,>=1.14.0a0 (from tf-nightly-gpu)\n",
            "\u001b[?25l  Downloading https://files.pythonhosted.org/packages/3a/60/afa129c3621d62c885599076f8e89737d66e5dfffad1a08842b1c11b4540/tb_nightly-1.14.0a20190614-py3-none-any.whl (3.1MB)\n",
            "\u001b[K     |████████████████████████████████| 3.2MB 48.9MB/s \n",
            "\u001b[?25hRequirement already satisfied, skipping upgrade: keras-preprocessing>=1.0.5 in /usr/local/lib/python3.6/dist-packages (from tf-nightly-gpu) (1.1.0)\n",
            "Requirement already satisfied, skipping upgrade: protobuf>=3.6.1 in /usr/local/lib/python3.6/dist-packages (from tf-nightly-gpu) (3.7.1)\n",
            "Requirement already satisfied, skipping upgrade: six>=1.10.0 in /usr/local/lib/python3.6/dist-packages (from tf-nightly-gpu) (1.12.0)\n",
            "Requirement already satisfied, skipping upgrade: gast>=0.2.0 in /usr/local/lib/python3.6/dist-packages (from tf-nightly-gpu) (0.2.2)\n",
            "Requirement already satisfied, skipping upgrade: termcolor>=1.1.0 in /usr/local/lib/python3.6/dist-packages (from tf-nightly-gpu) (1.1.0)\n",
            "Requirement already satisfied, skipping upgrade: numpy<2.0,>=1.14.5 in /usr/local/lib/python3.6/dist-packages (from tf-nightly-gpu) (1.16.4)\n",
            "Requirement already satisfied, skipping upgrade: wrapt>=1.11.1 in /usr/local/lib/python3.6/dist-packages (from tf-nightly-gpu) (1.11.1)\n",
            "Requirement already satisfied, skipping upgrade: h5py in /usr/local/lib/python3.6/dist-packages (from keras-applications>=1.0.8->tf-nightly-gpu) (2.8.0)\n",
            "Requirement already satisfied, skipping upgrade: markdown>=2.6.8 in /usr/local/lib/python3.6/dist-packages (from tb-nightly<1.15.0a0,>=1.14.0a0->tf-nightly-gpu) (3.1.1)\n",
            "Requirement already satisfied, skipping upgrade: werkzeug>=0.11.15 in /usr/local/lib/python3.6/dist-packages (from tb-nightly<1.15.0a0,>=1.14.0a0->tf-nightly-gpu) (0.15.4)\n",
            "Requirement already satisfied, skipping upgrade: setuptools>=41.0.0 in /usr/local/lib/python3.6/dist-packages (from tb-nightly<1.15.0a0,>=1.14.0a0->tf-nightly-gpu) (41.0.1)\n",
            "Installing collected packages: tf-estimator-nightly, tb-nightly, tf-nightly-gpu\n",
            "Successfully installed tb-nightly-1.14.0a20190614 tf-estimator-nightly-1.14.0.dev2019061601 tf-nightly-gpu-1.14.1.dev20190616\n",
            "1.14.1-dev20190616\n"
          ],
          "name": "stdout"
        },
        {
          "output_type": "stream",
          "text": [
            "Using TensorFlow backend.\n"
          ],
          "name": "stderr"
        }
      ]
    },
    {
      "cell_type": "markdown",
      "metadata": {
        "id": "OB6hgI8xTxjQ",
        "colab_type": "text"
      },
      "source": [
        "# Preparation"
      ]
    },
    {
      "cell_type": "markdown",
      "metadata": {
        "id": "cOf29k7RU3B1",
        "colab_type": "text"
      },
      "source": [
        "Test with cifar10"
      ]
    },
    {
      "cell_type": "code",
      "metadata": {
        "id": "p40JjhzMSU92",
        "colab_type": "code",
        "outputId": "ee371184-54f1-492e-9d63-1e5c6858b99d",
        "colab": {
          "base_uri": "https://localhost:8080/",
          "height": 50
        }
      },
      "source": [
        "cifar10 = keras.datasets.cifar10\n",
        "(trainX, trainY), (testX, testY) = cifar10.load_data()\n",
        "\n",
        "testLabels = testY\n",
        "trainLabels = trainY\n",
        "trainImages = trainX\n",
        "testImages = testX\n",
        "\n",
        "trainX = trainX.reshape((trainX.shape[0], 32, 32, 3))\n",
        "testX = testX.reshape((testX.shape[0], 32, 32, 3))\n",
        "\n",
        "trainX = trainX / 255.0\n",
        "testX = testX / 255.0\n",
        "# one-hot encode the training and testing labels\n",
        "trainY = np_utils.to_categorical(trainY, 10)\n",
        "testY = np_utils.to_categorical(testY, 10)\n",
        "# initialize the label names\n",
        "labelNames = ['airplane', 'automobile', 'bird', 'cat', 'deer', 'dog', 'frog', 'horse', 'ship', 'truck']"
      ],
      "execution_count": 0,
      "outputs": [
        {
          "output_type": "stream",
          "text": [
            "Downloading data from https://www.cs.toronto.edu/~kriz/cifar-10-python.tar.gz\n",
            "170500096/170498071 [==============================] - 9s 0us/step\n"
          ],
          "name": "stdout"
        }
      ]
    },
    {
      "cell_type": "markdown",
      "metadata": {
        "id": "ZluN5K3YVBYv",
        "colab_type": "text"
      },
      "source": [
        "Get efficientnet implementation playing nice with tf.keras\n"
      ]
    },
    {
      "cell_type": "code",
      "metadata": {
        "id": "mnyJvYF_yXLo",
        "colab_type": "code",
        "outputId": "7a708962-5639-4ade-cc4a-c677bbc4ab36",
        "colab": {
          "base_uri": "https://localhost:8080/",
          "height": 168
        }
      },
      "source": [
        "import os\n",
        "%cd /content\n",
        "if not os.path.isdir(\"efficientnet_keras_transfer_learning\"):\n",
        "  !git clone https://github.com/Tony607/efficientnet_keras_transfer_learning\n",
        "%cd efficientnet_keras_transfer_learning/\n",
        "#\n",
        "# #for tf 2.0\n",
        "#!tf_upgrade_v2 --infile efficientnet/model.py --outfile efficientnet/model.py\n",
        "#!tf_upgrade_v2 --infile efficientnet/initializers.py --outfile efficientnet/initializers.py\n",
        "#!tf_upgrade_v2 --infile efficientnet/layers.py --outfile efficientnet/layers.py\n",
        "#!tf_upgrade_v2 --infile efficientnet/params.py --outfile efficientnet/params.py\n",
        "#!tf_upgrade_v2 --infile efficientnet/preprocessing.py --outfile efficientnet/preprocessing.py"
      ],
      "execution_count": 0,
      "outputs": [
        {
          "output_type": "stream",
          "text": [
            "/content\n",
            "Cloning into 'efficientnet_keras_transfer_learning'...\n",
            "remote: Enumerating objects: 171, done.\u001b[K\n",
            "remote: Counting objects: 100% (171/171), done.\u001b[K\n",
            "remote: Compressing objects: 100% (74/74), done.\u001b[K\n",
            "remote: Total 171 (delta 98), reused 161 (delta 93), pack-reused 0\n",
            "Receiving objects: 100% (171/171), 5.44 MiB | 4.25 MiB/s, done.\n",
            "Resolving deltas: 100% (98/98), done.\n",
            "/content/efficientnet_keras_transfer_learning\n"
          ],
          "name": "stdout"
        }
      ]
    },
    {
      "cell_type": "code",
      "metadata": {
        "id": "vq00KoYUzOSc",
        "colab_type": "code",
        "colab": {}
      },
      "source": [
        "# Options: EfficientNetB0, EfficientNetB1, EfficientNetB2, EfficientNetB3\n",
        "# Higher the number, the more complex the model is.\n",
        "from efficientnet import EfficientNetB3 as Net\n",
        "from efficientnet import center_crop_and_resize, preprocess_input\n",
        "\n",
        "from efficientnet.layers import Swish, DropConnect\n",
        "from efficientnet.model import ConvKernalInitializer\n",
        "from tensorflow.keras.utils import get_custom_objects"
      ],
      "execution_count": 0,
      "outputs": []
    },
    {
      "cell_type": "markdown",
      "metadata": {
        "id": "0KVWQy7KVNWb",
        "colab_type": "text"
      },
      "source": [
        "Params and Model"
      ]
    },
    {
      "cell_type": "code",
      "metadata": {
        "id": "dNuqMwp5f_GX",
        "colab_type": "code",
        "colab": {}
      },
      "source": [
        "from keras.models import Sequential\n",
        "from keras.layers.normalization import BatchNormalization\n",
        "from keras.layers.convolutional import Conv2D\n",
        "from keras.layers.convolutional import MaxPooling2D\n",
        "from keras.layers.core import Activation\n",
        "from keras.layers.core import Flatten\n",
        "from keras.layers.core import Dropout\n",
        "from keras.layers.core import Dense\n",
        "from keras import backend as K\n",
        "from keras.optimizers import SGD\n",
        "\n",
        "imgindex = 25\n",
        "\n",
        "NUM_EPOCHS = 200\n",
        "INIT_LR = 0.0065\n",
        "BS = 500\n",
        "chanDim = -1\n",
        "classes = 10\n",
        "width = 32\n",
        "height = 32\n",
        "input_shape = (height, width, 3)\n",
        "\n",
        "def build_keras_model():\n",
        "  \n",
        "    #return keras.Sequential([\n",
        "    #        keras.layers.Conv2D(32, (3, 3), activation='relu', kernel_initializer='he_uniform', padding='same', input_shape=input_shape),\n",
        "    #        keras.layers.BatchNormalization(),\n",
        "    #        keras.layers.Conv2D(32, (3, 3), activation='relu', kernel_initializer='he_uniform', padding='same'),\n",
        "    #        keras.layers.BatchNormalization(),\n",
        "    #        keras.layers.MaxPooling2D((2, 2)),\n",
        "    #        keras.layers.Dropout(0.2),\n",
        "    #        keras.layers.Conv2D(64, (3, 3), activation='relu', kernel_initializer='he_uniform', padding='same'),\n",
        "    #        keras.layers.BatchNormalization(),\n",
        "    #        keras.layers.Conv2D(64, (3, 3), activation='relu', kernel_initializer='he_uniform', padding='same'),\n",
        "    #        keras.layers.BatchNormalization(),\n",
        "    #        keras.layers.MaxPooling2D((2, 2)),\n",
        "    #        keras.layers.Dropout(0.3),\n",
        "    #        keras.layers.Conv2D(128, (3, 3), activation='relu', kernel_initializer='he_uniform', padding='same'),\n",
        "    #        keras.layers.BatchNormalization(),\n",
        "    #        keras.layers.Conv2D(128, (3, 3), activation='relu', kernel_initializer='he_uniform', padding='same'),\n",
        "    #        keras.layers.BatchNormalization(),\n",
        "    #        keras.layers.MaxPooling2D((2, 2)),\n",
        "    #        keras.layers.Dropout(0.4),\n",
        "    #        keras.layers.Flatten(),\n",
        "    #        keras.layers.Dense(256, activation='relu', kernel_initializer='he_uniform'),\n",
        "    #        keras.layers.BatchNormalization(),\n",
        "    #        keras.layers.Dropout(0.5),\n",
        "    #        keras.layers.Dense(classes, activation='softmax', name=\"fc_outfc_out\")      \n",
        "    #])\n",
        "    model = keras.Sequential()\n",
        "    conv_base = Net(weights='imagenet',include_top=False, input_shape=input_shape)\n",
        "    conv_base.trainable = True\n",
        "    #count = -1\n",
        "    #set_trainable = False\n",
        "    #for layer in conv_base.layers:\n",
        "    #  count = count + 1\n",
        "    #  #print(str(layer.name)+\" - \"+str(count))\n",
        "    #  if layer.name == 'multiply_23':\n",
        "    #      set_trainable = True\n",
        "    #  if set_trainable:\n",
        "    #      layer.trainable = True\n",
        "    #  else:\n",
        "    #      layer.trainable = False\n",
        "    model.add(conv_base)\n",
        "    model.add(keras.layers.Flatten())\n",
        "    model.add(keras.layers.Dropout(0.5))\n",
        "    model.add(keras.layers.Dense(classes, activation='softmax', name=\"output\"))\n",
        "    return model\n",
        "\n"
      ],
      "execution_count": 0,
      "outputs": []
    },
    {
      "cell_type": "markdown",
      "metadata": {
        "id": "8x3xJuYPVRSa",
        "colab_type": "text"
      },
      "source": [
        "Image transformation"
      ]
    },
    {
      "cell_type": "code",
      "metadata": {
        "id": "cLlHKqNq0_5o",
        "colab_type": "code",
        "colab": {}
      },
      "source": [
        "from tensorflow.keras.preprocessing.image import ImageDataGenerator\n",
        "\n",
        "train_datagen = ImageDataGenerator(\n",
        "      rescale=1./255,\n",
        "      rotation_range=40,\n",
        "      width_shift_range=0.2,\n",
        "      height_shift_range=0.2,\n",
        "      shear_range=0.2,\n",
        "      zoom_range=0.2,\n",
        "      horizontal_flip=True,\n",
        "      channel_shift_range=0.2,\n",
        "      fill_mode='nearest')\n",
        "\n",
        "test_datagen = ImageDataGenerator(rescale=1./255)\n",
        "\n",
        "train_generator = train_datagen.flow(\n",
        "        trainX,trainY,\n",
        "        batch_size=BS)\n",
        "\n",
        "validation_generator = test_datagen.flow(\n",
        "        testX,testY,\n",
        "        batch_size=BS)"
      ],
      "execution_count": 0,
      "outputs": []
    },
    {
      "cell_type": "code",
      "metadata": {
        "id": "xA0IQMLLgCQI",
        "colab_type": "code",
        "colab": {}
      },
      "source": [
        "#import tensorflow.compat.v1 as tf\n",
        "#tf.disable_v2_behavior()"
      ],
      "execution_count": 0,
      "outputs": []
    },
    {
      "cell_type": "markdown",
      "metadata": {
        "id": "lDQAQhc9T_1T",
        "colab_type": "text"
      },
      "source": [
        "#Train"
      ]
    },
    {
      "cell_type": "code",
      "metadata": {
        "colab_type": "code",
        "id": "x6XlYG__fBVk",
        "outputId": "08b31d8f-4e81-494b-c19e-43c16c706322",
        "colab": {
          "base_uri": "https://localhost:8080/",
          "height": 238
        }
      },
      "source": [
        "from tensorflow.keras import models\n",
        "from tensorflow.keras import layers\n",
        "from tensorflow.keras import optimizers\n",
        "#tf.compat.v1.disable_eager_execution()\n",
        "\n",
        "\n",
        "get_custom_objects().update({\n",
        "    'ConvKernalInitializer': ConvKernalInitializer,\n",
        "    'Swish': Swish,\n",
        "    'DropConnect':DropConnect\n",
        "})\n",
        "train_model = build_keras_model()   "
      ],
      "execution_count": 0,
      "outputs": [
        {
          "output_type": "stream",
          "text": [
            "WARNING: Logging before flag parsing goes to stderr.\n",
            "W0616 20:31:45.461189 140043396921216 deprecation_wrapper.py:118] From /content/efficientnet_keras_transfer_learning/efficientnet/model.py:67: The name tf.random_normal is deprecated. Please use tf.random.normal instead.\n",
            "\n",
            "W0616 20:31:46.319335 140043396921216 deprecation_wrapper.py:118] From /usr/local/lib/python3.6/dist-packages/tensorflow_estimator/python/estimator/api/_v1/estimator/__init__.py:10: The name tf.estimator.inputs is deprecated. Please use tf.compat.v1.estimator.inputs instead.\n",
            "\n",
            "W0616 20:31:46.907497 140043396921216 deprecation_wrapper.py:118] From /usr/local/lib/python3.6/dist-packages/tensorflow_core/python/autograph/converters/directives.py:119: The name tf.random_uniform is deprecated. Please use tf.random.uniform instead.\n",
            "\n",
            "W0616 20:31:47.012965 140043396921216 deprecation.py:323] From /usr/local/lib/python3.6/dist-packages/tensorflow_core/python/autograph/impl/api.py:328: div (from tensorflow.python.ops.math_ops) is deprecated and will be removed in a future version.\n",
            "Instructions for updating:\n",
            "Deprecated in favor of operator or tf.math.divide.\n"
          ],
          "name": "stderr"
        },
        {
          "output_type": "stream",
          "text": [
            "Downloading data from https://github.com/qubvel/efficientnet/releases/download/v0.0.1/efficientnet-b3_imagenet_1000_notop.h5\n",
            "43974656/43966704 [==============================] - 3s 0us/step\n"
          ],
          "name": "stdout"
        }
      ]
    },
    {
      "cell_type": "code",
      "metadata": {
        "id": "SoaICLV75P80",
        "colab_type": "code",
        "outputId": "f908606a-ead5-481f-deec-0da0112ed618",
        "colab": {
          "base_uri": "https://localhost:8080/",
          "height": 3078
        }
      },
      "source": [
        "early_stop = tf.keras.callbacks.EarlyStopping(monitor=\"val_acc\", patience=25, verbose=1)\n",
        "opt = optimizers.SGD(lr=INIT_LR, momentum=0.9, decay=INIT_LR / NUM_EPOCHS)\n",
        "train_model.compile(loss=\"categorical_crossentropy\", optimizer=\"adam\",  metrics=[\"accuracy\"])\n",
        "train_model.summary()\n",
        "history = train_model.fit_generator(\n",
        "      train_generator,\n",
        "      steps_per_epoch= np.shape(trainX)[0] //BS,\n",
        "      epochs=NUM_EPOCHS,\n",
        "      validation_data=validation_generator,\n",
        "      validation_steps= np.shape(testX)[0] //BS, callbacks=[early_stop],\n",
        "      verbose=1)#,\n",
        "      #use_multiprocessing=True,\n",
        "      #workers=4) \n",
        "\n",
        "train_model.save(\"model.h5\")\n",
        "predictions = train_model.predict(testX)\n",
        "\n",
        "#for op in train_graph .get_operations(): \n",
        "#  print(op.name)"
      ],
      "execution_count": 0,
      "outputs": [
        {
          "output_type": "stream",
          "text": [
            "Model: \"sequential\"\n",
            "_________________________________________________________________\n",
            "Layer (type)                 Output Shape              Param #   \n",
            "=================================================================\n",
            "efficientnet-b3 (Model)      (None, 1, 1, 1536)        10783528  \n",
            "_________________________________________________________________\n",
            "flatten (Flatten)            (None, 1536)              0         \n",
            "_________________________________________________________________\n",
            "dropout (Dropout)            (None, 1536)              0         \n",
            "_________________________________________________________________\n",
            "output (Dense)               (None, 10)                15370     \n",
            "=================================================================\n",
            "Total params: 10,798,898\n",
            "Trainable params: 10,711,602\n",
            "Non-trainable params: 87,296\n",
            "_________________________________________________________________\n",
            "Epoch 1/200\n",
            "100/100 [==============================] - 78s 776ms/step - loss: 1.6666 - acc: 0.4018 - val_loss: 2.4760 - val_acc: 0.1000\n",
            "Epoch 2/200\n",
            "100/100 [==============================] - 34s 343ms/step - loss: 1.1268 - acc: 0.6042 - val_loss: 2.9929 - val_acc: 0.1000\n",
            "Epoch 3/200\n",
            "100/100 [==============================] - 36s 365ms/step - loss: 0.9432 - acc: 0.6707 - val_loss: 4.0717 - val_acc: 0.1000\n",
            "Epoch 4/200\n",
            "100/100 [==============================] - 36s 360ms/step - loss: 0.8287 - acc: 0.7114 - val_loss: 4.5739 - val_acc: 0.1441\n",
            "Epoch 5/200\n",
            "100/100 [==============================] - 36s 359ms/step - loss: 0.7549 - acc: 0.7379 - val_loss: 4.9308 - val_acc: 0.1257\n",
            "Epoch 6/200\n",
            "100/100 [==============================] - 36s 362ms/step - loss: 0.7033 - acc: 0.7551 - val_loss: 3.0417 - val_acc: 0.2841\n",
            "Epoch 7/200\n",
            "100/100 [==============================] - 36s 359ms/step - loss: 0.6657 - acc: 0.7676 - val_loss: 3.6605 - val_acc: 0.2997\n",
            "Epoch 8/200\n",
            "100/100 [==============================] - 36s 359ms/step - loss: 0.6289 - acc: 0.7796 - val_loss: 1.3220 - val_acc: 0.6388\n",
            "Epoch 9/200\n",
            "100/100 [==============================] - 36s 358ms/step - loss: 0.6012 - acc: 0.7921 - val_loss: 0.9528 - val_acc: 0.7142\n",
            "Epoch 10/200\n",
            "100/100 [==============================] - 36s 362ms/step - loss: 0.5766 - acc: 0.7995 - val_loss: 0.7374 - val_acc: 0.7773\n",
            "Epoch 11/200\n",
            "100/100 [==============================] - 36s 357ms/step - loss: 0.5608 - acc: 0.8038 - val_loss: 0.6022 - val_acc: 0.8110\n",
            "Epoch 12/200\n",
            "100/100 [==============================] - 35s 355ms/step - loss: 0.5368 - acc: 0.8139 - val_loss: 0.5629 - val_acc: 0.8189\n",
            "Epoch 13/200\n",
            "100/100 [==============================] - 36s 359ms/step - loss: 0.5182 - acc: 0.8196 - val_loss: 0.5787 - val_acc: 0.8145\n",
            "Epoch 14/200\n",
            "100/100 [==============================] - 36s 357ms/step - loss: 0.4979 - acc: 0.8262 - val_loss: 0.4787 - val_acc: 0.8343\n",
            "Epoch 15/200\n",
            "100/100 [==============================] - 36s 360ms/step - loss: 0.4827 - acc: 0.8313 - val_loss: 0.5704 - val_acc: 0.8183\n",
            "Epoch 16/200\n",
            "100/100 [==============================] - 36s 358ms/step - loss: 0.4755 - acc: 0.8342 - val_loss: 0.5136 - val_acc: 0.8373\n",
            "Epoch 17/200\n",
            "100/100 [==============================] - 36s 361ms/step - loss: 0.4562 - acc: 0.8401 - val_loss: 0.5122 - val_acc: 0.8356\n",
            "Epoch 18/200\n",
            "100/100 [==============================] - 36s 360ms/step - loss: 0.4479 - acc: 0.8463 - val_loss: 0.5544 - val_acc: 0.8276\n",
            "Epoch 19/200\n",
            "100/100 [==============================] - 36s 355ms/step - loss: 0.4364 - acc: 0.8485 - val_loss: 0.5453 - val_acc: 0.8281\n",
            "Epoch 20/200\n",
            "100/100 [==============================] - 36s 358ms/step - loss: 0.4249 - acc: 0.8513 - val_loss: 0.4892 - val_acc: 0.8437\n",
            "Epoch 21/200\n",
            "100/100 [==============================] - 35s 353ms/step - loss: 0.4136 - acc: 0.8548 - val_loss: 0.5104 - val_acc: 0.8379\n",
            "Epoch 22/200\n",
            "100/100 [==============================] - 36s 358ms/step - loss: 0.4043 - acc: 0.8582 - val_loss: 0.5144 - val_acc: 0.8403\n",
            "Epoch 23/200\n",
            "100/100 [==============================] - 36s 358ms/step - loss: 0.3946 - acc: 0.8622 - val_loss: 0.4888 - val_acc: 0.8413\n",
            "Epoch 24/200\n",
            "100/100 [==============================] - 36s 362ms/step - loss: 0.3861 - acc: 0.8655 - val_loss: 0.4943 - val_acc: 0.8414\n",
            "Epoch 25/200\n",
            "100/100 [==============================] - 36s 363ms/step - loss: 0.3771 - acc: 0.8679 - val_loss: 0.5145 - val_acc: 0.8360\n",
            "Epoch 26/200\n",
            "100/100 [==============================] - 36s 362ms/step - loss: 0.3738 - acc: 0.8700 - val_loss: 0.6159 - val_acc: 0.8215\n",
            "Epoch 27/200\n",
            "100/100 [==============================] - 36s 361ms/step - loss: 0.3689 - acc: 0.8709 - val_loss: 0.4711 - val_acc: 0.8532\n",
            "Epoch 28/200\n",
            "100/100 [==============================] - 36s 363ms/step - loss: 0.3554 - acc: 0.8751 - val_loss: 0.5647 - val_acc: 0.8277\n",
            "Epoch 29/200\n",
            "100/100 [==============================] - 36s 363ms/step - loss: 0.3478 - acc: 0.8789 - val_loss: 0.5142 - val_acc: 0.8415\n",
            "Epoch 30/200\n",
            "100/100 [==============================] - 36s 362ms/step - loss: 0.3433 - acc: 0.8803 - val_loss: 0.5074 - val_acc: 0.8379\n",
            "Epoch 31/200\n",
            "100/100 [==============================] - 36s 364ms/step - loss: 0.3295 - acc: 0.8847 - val_loss: 0.4597 - val_acc: 0.8586\n",
            "Epoch 32/200\n",
            "100/100 [==============================] - 37s 372ms/step - loss: 0.3273 - acc: 0.8861 - val_loss: 0.5297 - val_acc: 0.8345\n",
            "Epoch 33/200\n",
            "100/100 [==============================] - 36s 364ms/step - loss: 0.3273 - acc: 0.8843 - val_loss: 0.5781 - val_acc: 0.8333\n",
            "Epoch 34/200\n",
            "100/100 [==============================] - 36s 360ms/step - loss: 0.3219 - acc: 0.8879 - val_loss: 0.4503 - val_acc: 0.8618\n",
            "Epoch 35/200\n",
            "100/100 [==============================] - 36s 360ms/step - loss: 0.3100 - acc: 0.8918 - val_loss: 0.5734 - val_acc: 0.8339\n",
            "Epoch 36/200\n",
            "100/100 [==============================] - 36s 358ms/step - loss: 0.2981 - acc: 0.8958 - val_loss: 0.5585 - val_acc: 0.8370\n",
            "Epoch 37/200\n",
            "100/100 [==============================] - 36s 359ms/step - loss: 0.3044 - acc: 0.8929 - val_loss: 0.5625 - val_acc: 0.8371\n",
            "Epoch 38/200\n",
            "100/100 [==============================] - 36s 356ms/step - loss: 0.2988 - acc: 0.8953 - val_loss: 0.4813 - val_acc: 0.8610\n",
            "Epoch 39/200\n",
            "100/100 [==============================] - 36s 363ms/step - loss: 0.2867 - acc: 0.8983 - val_loss: 0.4687 - val_acc: 0.8609\n",
            "Epoch 40/200\n",
            "100/100 [==============================] - 36s 357ms/step - loss: 0.2845 - acc: 0.8999 - val_loss: 0.5442 - val_acc: 0.8419\n",
            "Epoch 41/200\n",
            "100/100 [==============================] - 36s 361ms/step - loss: 0.2822 - acc: 0.9005 - val_loss: 0.5641 - val_acc: 0.8369\n",
            "Epoch 42/200\n",
            "100/100 [==============================] - 36s 359ms/step - loss: 0.2722 - acc: 0.9037 - val_loss: 0.5160 - val_acc: 0.8513\n",
            "Epoch 43/200\n",
            "100/100 [==============================] - 36s 356ms/step - loss: 0.2716 - acc: 0.9047 - val_loss: 0.5967 - val_acc: 0.8358\n",
            "Epoch 44/200\n",
            "100/100 [==============================] - 36s 358ms/step - loss: 0.2631 - acc: 0.9087 - val_loss: 0.5320 - val_acc: 0.8507\n",
            "Epoch 45/200\n",
            "100/100 [==============================] - 36s 356ms/step - loss: 0.2559 - acc: 0.9103 - val_loss: 0.5234 - val_acc: 0.8469\n",
            "Epoch 46/200\n",
            "100/100 [==============================] - 36s 361ms/step - loss: 0.2510 - acc: 0.9131 - val_loss: 0.5425 - val_acc: 0.8438\n",
            "Epoch 47/200\n",
            "100/100 [==============================] - 36s 356ms/step - loss: 0.2515 - acc: 0.9120 - val_loss: 0.5556 - val_acc: 0.8462\n",
            "Epoch 48/200\n",
            "100/100 [==============================] - 36s 355ms/step - loss: 0.2486 - acc: 0.9130 - val_loss: 0.5899 - val_acc: 0.8399\n",
            "Epoch 49/200\n",
            "100/100 [==============================] - 36s 360ms/step - loss: 0.2411 - acc: 0.9152 - val_loss: 0.5468 - val_acc: 0.8486\n",
            "Epoch 50/200\n",
            "100/100 [==============================] - 36s 357ms/step - loss: 0.2408 - acc: 0.9157 - val_loss: 0.5471 - val_acc: 0.8457\n",
            "Epoch 51/200\n",
            "100/100 [==============================] - 36s 357ms/step - loss: 0.2293 - acc: 0.9191 - val_loss: 0.5788 - val_acc: 0.8392\n",
            "Epoch 52/200\n",
            "100/100 [==============================] - 35s 354ms/step - loss: 0.2324 - acc: 0.9197 - val_loss: 0.6068 - val_acc: 0.8407\n",
            "Epoch 53/200\n",
            "100/100 [==============================] - 36s 363ms/step - loss: 0.2320 - acc: 0.9194 - val_loss: 0.5504 - val_acc: 0.8486\n",
            "Epoch 54/200\n",
            "100/100 [==============================] - 35s 351ms/step - loss: 0.2245 - acc: 0.9208 - val_loss: 0.6437 - val_acc: 0.8357\n",
            "Epoch 55/200\n",
            "100/100 [==============================] - 35s 353ms/step - loss: 0.2239 - acc: 0.9217 - val_loss: 0.5973 - val_acc: 0.8479\n",
            "Epoch 56/200\n",
            "100/100 [==============================] - 35s 353ms/step - loss: 0.2185 - acc: 0.9228 - val_loss: 0.5658 - val_acc: 0.8493\n",
            "Epoch 57/200\n",
            "100/100 [==============================] - 35s 351ms/step - loss: 0.2167 - acc: 0.9237 - val_loss: 0.5013 - val_acc: 0.8624\n",
            "Epoch 58/200\n",
            "100/100 [==============================] - 36s 358ms/step - loss: 0.2132 - acc: 0.9261 - val_loss: 0.5495 - val_acc: 0.8530\n",
            "Epoch 59/200\n",
            "100/100 [==============================] - 35s 353ms/step - loss: 0.2099 - acc: 0.9266 - val_loss: 0.5539 - val_acc: 0.8498\n",
            "Epoch 60/200\n",
            "100/100 [==============================] - 36s 358ms/step - loss: 0.2011 - acc: 0.9297 - val_loss: 0.5533 - val_acc: 0.8547\n",
            "Epoch 61/200\n",
            "100/100 [==============================] - 35s 352ms/step - loss: 0.2022 - acc: 0.9287 - val_loss: 0.7151 - val_acc: 0.8199\n",
            "Epoch 62/200\n",
            "100/100 [==============================] - 36s 356ms/step - loss: 0.1956 - acc: 0.9318 - val_loss: 0.6220 - val_acc: 0.8394\n",
            "Epoch 63/200\n",
            "100/100 [==============================] - 35s 352ms/step - loss: 0.1959 - acc: 0.9313 - val_loss: 0.6254 - val_acc: 0.8378\n",
            "Epoch 64/200\n",
            "100/100 [==============================] - 35s 349ms/step - loss: 0.1966 - acc: 0.9316 - val_loss: 0.6450 - val_acc: 0.8337\n",
            "Epoch 65/200\n",
            "100/100 [==============================] - 36s 363ms/step - loss: 0.1936 - acc: 0.9336 - val_loss: 0.6239 - val_acc: 0.8427\n",
            "Epoch 66/200\n",
            "100/100 [==============================] - 35s 353ms/step - loss: 0.1882 - acc: 0.9346 - val_loss: 0.5387 - val_acc: 0.8575\n",
            "Epoch 67/200\n",
            "100/100 [==============================] - 36s 357ms/step - loss: 0.1888 - acc: 0.9344 - val_loss: 0.5557 - val_acc: 0.8565\n",
            "Epoch 68/200\n",
            "100/100 [==============================] - 36s 356ms/step - loss: 0.1838 - acc: 0.9368 - val_loss: 0.5888 - val_acc: 0.8466\n",
            "Epoch 69/200\n",
            "100/100 [==============================] - 36s 355ms/step - loss: 0.1828 - acc: 0.9362 - val_loss: 0.6314 - val_acc: 0.8402\n",
            "Epoch 70/200\n",
            "100/100 [==============================] - 35s 349ms/step - loss: 0.1805 - acc: 0.9378 - val_loss: 0.6221 - val_acc: 0.8421\n",
            "Epoch 71/200\n",
            "100/100 [==============================] - 35s 353ms/step - loss: 0.1788 - acc: 0.9384 - val_loss: 0.5487 - val_acc: 0.8579\n",
            "Epoch 72/200\n",
            "100/100 [==============================] - 35s 351ms/step - loss: 0.1750 - acc: 0.9400 - val_loss: 0.5715 - val_acc: 0.8520\n",
            "Epoch 73/200\n",
            "100/100 [==============================] - 35s 348ms/step - loss: 0.1729 - acc: 0.9404 - val_loss: 0.5523 - val_acc: 0.8568\n",
            "Epoch 74/200\n",
            "100/100 [==============================] - 35s 349ms/step - loss: 0.1705 - acc: 0.9408 - val_loss: 0.5379 - val_acc: 0.8590\n",
            "Epoch 75/200\n",
            "100/100 [==============================] - 35s 352ms/step - loss: 0.1661 - acc: 0.9428 - val_loss: 0.6679 - val_acc: 0.8379\n",
            "Epoch 76/200\n",
            "100/100 [==============================] - 35s 355ms/step - loss: 0.1695 - acc: 0.9407 - val_loss: 0.5829 - val_acc: 0.8518\n",
            "Epoch 77/200\n",
            "100/100 [==============================] - 35s 349ms/step - loss: 0.1664 - acc: 0.9430 - val_loss: 0.6582 - val_acc: 0.8377\n",
            "Epoch 78/200\n",
            "100/100 [==============================] - 35s 350ms/step - loss: 0.1633 - acc: 0.9435 - val_loss: 0.6235 - val_acc: 0.8480\n",
            "Epoch 79/200\n",
            "100/100 [==============================] - 35s 348ms/step - loss: 0.1571 - acc: 0.9454 - val_loss: 0.5952 - val_acc: 0.8483\n",
            "Epoch 80/200\n",
            "100/100 [==============================] - 35s 349ms/step - loss: 0.1706 - acc: 0.9411 - val_loss: 0.7285 - val_acc: 0.8230\n",
            "Epoch 81/200\n",
            "100/100 [==============================] - 35s 350ms/step - loss: 0.1700 - acc: 0.9406 - val_loss: 0.6179 - val_acc: 0.8501\n",
            "Epoch 82/200\n",
            "100/100 [==============================] - 35s 355ms/step - loss: 0.1601 - acc: 0.9464 - val_loss: 0.5562 - val_acc: 0.8557\n",
            "Epoch 00082: early stopping\n"
          ],
          "name": "stdout"
        }
      ]
    },
    {
      "cell_type": "markdown",
      "metadata": {
        "id": "7iKjZYMQUGVT",
        "colab_type": "text"
      },
      "source": [
        "Display history"
      ]
    },
    {
      "cell_type": "code",
      "metadata": {
        "id": "KAuUCw4WMaAe",
        "colab_type": "code",
        "outputId": "13171b32-1e76-4d96-e53b-f0f7a46d1f91",
        "colab": {
          "base_uri": "https://localhost:8080/",
          "height": 590
        }
      },
      "source": [
        "print(history.history.keys())\n",
        "# summarize history for accuracy\n",
        "plt.plot(history.history['acc'])\n",
        "plt.plot(history.history['val_acc'])\n",
        "plt.title('model accuracy')\n",
        "plt.ylabel('accuracy')\n",
        "plt.xlabel('epoch')\n",
        "plt.legend(['train', 'test'], loc='upper left')\n",
        "plt.show()\n",
        "# summarize history for loss\n",
        "plt.plot(history.history['loss'])\n",
        "plt.plot(history.history['val_loss'])\n",
        "plt.title('model loss')\n",
        "plt.ylabel('loss')\n",
        "plt.xlabel('epoch')\n",
        "plt.legend(['train', 'test'], loc='upper left')\n",
        "plt.show()"
      ],
      "execution_count": 0,
      "outputs": [
        {
          "output_type": "stream",
          "text": [
            "dict_keys(['loss', 'acc', 'val_loss', 'val_acc'])\n"
          ],
          "name": "stdout"
        },
        {
          "output_type": "display_data",
          "data": {
            "image/png": "[encoded data removed]",
            "text/plain": [
              "<Figure size 432x288 with 1 Axes>"
            ]
          },
          "metadata": {
            "tags": []
          }
        },
        {
          "output_type": "display_data",
          "data": {
            "image/png": "[encoded data removed]",
            "text/plain": [
              "<Figure size 432x288 with 1 Axes>"
            ]
          },
          "metadata": {
            "tags": []
          }
        }
      ]
    },
    {
      "cell_type": "markdown",
      "metadata": {
        "id": "w5JhknQ2Veb4",
        "colab_type": "text"
      },
      "source": [
        "Test prediction"
      ]
    },
    {
      "cell_type": "code",
      "metadata": {
        "id": "jWp9_I06ZjDo",
        "colab_type": "code",
        "outputId": "277b78e2-23b2-4a6b-82e2-dae7eabc906b",
        "colab": {
          "base_uri": "https://localhost:8080/",
          "height": 222
        }
      },
      "source": [
        "print(predictions[imgindex]*100)\n",
        "def plot_image(i, predictions_array, true_label, img):\n",
        "  predictions_array, true_label, img = predictions_array[i], true_label[i], img[i]\n",
        "  plt.grid(False)\n",
        "  plt.xticks([])\n",
        "  plt.yticks([])\n",
        "  true_label = np.argmax(true_label)\n",
        "  plt.imshow(img)\n",
        "  \n",
        "  predicted_label = np.argmax(predictions_array)\n",
        "  if predicted_label == true_label:\n",
        "    color = 'blue'\n",
        "  else:\n",
        "    color = 'red'\n",
        "  \n",
        "  plt.xlabel(\"{} {:2.0f}% ({})\".format(labelNames[predicted_label],\n",
        "                                100*np.max(predictions_array),\n",
        "                                labelNames[true_label]),\n",
        "                                color=color)\n",
        "\n",
        "def plot_value_array(i, predictions_array, true_label):\n",
        "  predictions_array, true_label = predictions_array[i], true_label[i]\n",
        "  true_label = np.argmax(true_label)\n",
        "  plt.grid(False)\n",
        "  plt.xticks([])\n",
        "  plt.yticks([])\n",
        "  thisplot = plt.bar(range(10), predictions_array, color=\"#777777\")\n",
        "  plt.ylim([0, 1])\n",
        "  predicted_label = np.argmax(predictions_array)\n",
        "  \n",
        "  thisplot[predicted_label].set_color('red')\n",
        "  thisplot[true_label].set_color('blue')\n",
        "  \n",
        "\n",
        "#print(np.shape(testY))\n",
        "plt.figure(figsize=(6,3))\n",
        "plt.subplot(1,2,1)\n",
        "plot_image(imgindex, predictions, testY, testX)\n",
        "plt.subplot(1,2,2)\n",
        "plot_value_array(imgindex, predictions,  testY)\n",
        "plt.show()"
      ],
      "execution_count": 0,
      "outputs": [
        {
          "output_type": "stream",
          "text": [
            "[  0.   0.   0.   0.   0. 100.   0.   0.   0.   0.]\n"
          ],
          "name": "stdout"
        },
        {
          "output_type": "display_data",
          "data": {
            "image/png": "[encoded data removed]",
            "text/plain": [
              "<Figure size 432x216 with 2 Axes>"
            ]
          },
          "metadata": {
            "tags": []
          }
        }
      ]
    },
    {
      "cell_type": "markdown",
      "metadata": {
        "id": "SSRKf1uLUK3-",
        "colab_type": "text"
      },
      "source": [
        "# Convert"
      ]
    },
    {
      "cell_type": "code",
      "metadata": {
        "id": "I0FguAZUVKLz",
        "colab_type": "code",
        "outputId": "efc291f0-b7b6-4412-bb0d-d2a56e4d708f",
        "colab": {
          "base_uri": "https://localhost:8080/",
          "height": 306
        }
      },
      "source": [
        "from tensorflow.keras.models import load_model\n",
        "#import tf.compat.v2.lite.OpsSet as OpsSet\n",
        "#tf.enable_eager_execution()\n",
        "#tf.logging.set_verbosity(tf.logging.DEBUG)\n",
        "#import tensorflow.compat.v2 as tfl\n",
        "#import tensorflow.contrib.eager as tfe\n",
        "#from tensorflow.python.eager.context import eager_mode, graph_mode\n",
        "\n",
        "#mport tensorflow.compat.v1 as tf\n",
        "#tf.reset_default_graph()\n",
        "#tf.disable_v2_behavior()\n",
        "\n",
        "#model = load_model(\"model.h5\")\n",
        "converter = tf.lite.TFLiteConverter.from_keras_model_file(\"model.h5\") \n",
        "\n",
        "#tf.reset_default_graph()\n",
        "#tf.enable_v2_behavior()\n",
        "\n",
        "converter.optimizations = [tf.lite.Optimize.DEFAULT]\n",
        "converter.target_spec.supported_ops = [tf.lite.OpsSet.TFLITE_BUILTINS_INT8]\n",
        "\n",
        "num_calibration_steps = 100\n",
        "\n",
        "\n",
        "\n",
        "dstrain, _ = cifar10.load_data()\n",
        "images = tf.cast(dstrain[0], tf.float32)/255.0\n",
        "cifar_ds = tf.data.Dataset.from_tensor_slices((images)).batch(1)\n",
        "\n",
        "#for tf 2.0\n",
        "def representative_dataset_gen():\n",
        "    for input_value in cifar_ds.take(num_calibration_steps):\n",
        "      yield [input_value]\n",
        "\n",
        "def representative_img_gen():\n",
        "  repImg = trainX[:100]\n",
        "  repImg = np.array(repImg, dtype=np.float32)\n",
        "  for img in repImg:\n",
        "      img = img.reshape((1,32,32,3))\n",
        "      yield[img]\n",
        "  \n",
        "  \n",
        "converter.representative_dataset = tf.lite.RepresentativeDataset(\n",
        "    representative_img_gen)\n",
        "\n",
        "qmodelname = \"qmodel.tflite\"\n",
        "\n",
        "tflite_quant_model = converter.convert()\n",
        "open(qmodelname, \"wb\").write(tflite_quant_model)\n"
      ],
      "execution_count": 0,
      "outputs": [
        {
          "output_type": "stream",
          "text": [
            "W0616 21:21:56.445170 140043396921216 deprecation.py:506] From /usr/local/lib/python3.6/dist-packages/tensorflow_core/python/ops/init_ops.py:97: calling Zeros.__init__ (from tensorflow.python.ops.init_ops) with dtype is deprecated and will be removed in a future version.\n",
            "Instructions for updating:\n",
            "Call initializer instance with the dtype argument instead of passing it to the constructor\n",
            "W0616 21:21:56.450697 140043396921216 deprecation.py:506] From /usr/local/lib/python3.6/dist-packages/tensorflow_core/python/ops/init_ops.py:97: calling Ones.__init__ (from tensorflow.python.ops.init_ops) with dtype is deprecated and will be removed in a future version.\n",
            "Instructions for updating:\n",
            "Call initializer instance with the dtype argument instead of passing it to the constructor\n",
            "W0616 21:22:01.661824 140043396921216 deprecation.py:506] From /usr/local/lib/python3.6/dist-packages/tensorflow_core/python/ops/init_ops.py:97: calling GlorotUniform.__init__ (from tensorflow.python.ops.init_ops) with dtype is deprecated and will be removed in a future version.\n",
            "Instructions for updating:\n",
            "Call initializer instance with the dtype argument instead of passing it to the constructor\n",
            "W0616 21:22:24.845356 140043396921216 deprecation.py:323] From /usr/local/lib/python3.6/dist-packages/tensorflow_core/lite/python/util.py:267: convert_variables_to_constants (from tensorflow.python.framework.graph_util_impl) is deprecated and will be removed in a future version.\n",
            "Instructions for updating:\n",
            "Use `tf.compat.v1.graph_util.convert_variables_to_constants`\n",
            "W0616 21:22:24.847403 140043396921216 deprecation.py:323] From /usr/local/lib/python3.6/dist-packages/tensorflow_core/python/framework/graph_util_impl.py:270: extract_sub_graph (from tensorflow.python.framework.graph_util_impl) is deprecated and will be removed in a future version.\n",
            "Instructions for updating:\n",
            "Use `tf.compat.v1.graph_util.extract_sub_graph`\n"
          ],
          "name": "stderr"
        },
        {
          "output_type": "execute_result",
          "data": {
            "text/plain": [
              "12502360"
            ]
          },
          "metadata": {
            "tags": []
          },
          "execution_count": 12
        }
      ]
    },
    {
      "cell_type": "markdown",
      "metadata": {
        "id": "_FsyAOZ0UU-s",
        "colab_type": "text"
      },
      "source": [
        "Test converted model"
      ]
    },
    {
      "cell_type": "code",
      "metadata": {
        "id": "ad1w_EGqy0qM",
        "colab_type": "code",
        "colab": {}
      },
      "source": [
        "import numpy as np\n",
        "from PIL import Image\n",
        "import os\n",
        "\n",
        "imgindex =12\n",
        "#iLoad TFLite model and allocate tensors.\n",
        "interpreter = tf.lite.Interpreter(model_path=qmodelname)\n",
        "interpreter.allocate_tensors()\n",
        "\n",
        "# Get input and output tensors.\n",
        "input_details = interpreter.get_input_details()\n",
        "output_details = interpreter.get_output_details()\n",
        "print(input_details)\n",
        "print(output_details)\n",
        "# Test model on random input data.\n",
        "\n",
        "img = testX[imgindex]\n",
        "img = np.array([img], dtype=np.float32)\n",
        "#print(img)\n",
        "#img = img.astype(np.uint8)\n",
        "#img = img.reshape(1,32,32,3)\n",
        "\n",
        "#quantized_input = quantize(input_details[0], img)\n",
        "\n",
        "\n",
        "print(np.shape(img))\n",
        "\n",
        "\n",
        "interpreter.set_tensor(input_details[0]['index'], img)\n",
        "interpreter.invoke()\n",
        "output_data = interpreter.get_tensor(output_details[0]['index'])\n",
        "# View\n",
        "print(output_data)\n",
        "#output = dequantize(output_details[0], output_data)\n",
        "output = output_data[0]\n",
        "#print( output)\n",
        "res = np.argmax(output, axis=0)\n",
        "print(res)\n",
        "print(labelNames[res])\n",
        "print(np.argmax(testY[imgindex], axis=0))\n",
        "print(labelNames[np.argmax(testY[imgindex], axis=0)])\n",
        "\n",
        "\n",
        "img = testImages[imgindex].reshape(32,32,3)\n",
        "print(np.shape(img))\n",
        "plt.figure()\n",
        "plt.imshow(testImages[imgindex])\n",
        "plt.colorbar()\n",
        "plt.grid(False)\n",
        "plt.show()"
      ],
      "execution_count": 0,
      "outputs": []
    },
    {
      "cell_type": "markdown",
      "metadata": {
        "id": "OWsvAY87UYxh",
        "colab_type": "text"
      },
      "source": [
        "#EdgeTPU compiler"
      ]
    },
    {
      "cell_type": "code",
      "metadata": {
        "id": "DwJohUhVQPAE",
        "colab_type": "code",
        "colab": {}
      },
      "source": [
        "%%bash\n",
        "\n",
        "echo \"deb https://packages.cloud.google.com/apt coral-edgetpu-stable main\" | sudo tee /etc/apt/sources.list.d/coral-edgetpu.list\n",
        "sudo apt-key adv --keyserver keyserver.ubuntu.com --recv-keys 6A030B21BA07F4FB\n",
        "\n",
        "sudo apt update > /dev/null\n",
        "sudo apt install edgetpu > /dev/null"
      ],
      "execution_count": 0,
      "outputs": []
    },
    {
      "cell_type": "code",
      "metadata": {
        "id": "GmSX6C6RxAZh",
        "colab_type": "code",
        "colab": {}
      },
      "source": [
        "%%bash\n",
        "\n",
        "edgetpu_compiler -s \"qmodel.tflite\""
      ],
      "execution_count": 0,
      "outputs": []
    }
  ]
}